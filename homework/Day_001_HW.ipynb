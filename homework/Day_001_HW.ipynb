{
 "cells": [
  {
   "cell_type": "markdown",
   "metadata": {},
   "source": [
    "## 練習時間\n",
    "#### 請寫一個函式用來計算 Mean Square Error\n",
    "$ MSE = \\frac{1}{n}\\sum_{i=1}^{n}{(Y_i - \\hat{Y}_i)^2} $\n",
    "\n",
    "### Hint: [如何取平方](https://googoodesign.gitbooks.io/-ezpython/unit-1.html)"
   ]
  },
  {
   "cell_type": "markdown",
   "metadata": {},
   "source": [
    "# [作業目標]\n",
    "- 仿造範例的MAE函數, 自己寫一個MSE函數(參考上面公式)"
   ]
  },
  {
   "cell_type": "markdown",
   "metadata": {},
   "source": [
    "# [作業重點]\n",
    "- 注意程式的縮排\n",
    "- 是否能將數學公式, 轉換為 Python 的函式組合? (In[2], Out[2])"
   ]
  },
  {
   "cell_type": "code",
   "execution_count": 2,
   "metadata": {},
   "outputs": [],
   "source": [
    "# 載入基礎套件與代稱\n",
    "import numpy as np\n",
    "import matplotlib.pyplot as plt"
   ]
  },
  {
   "cell_type": "code",
   "execution_count": 7,
   "metadata": {},
   "outputs": [],
   "source": [
    "def mean_absolute_error(y, yp):\n",
    "    \"\"\"\n",
    "    計算 MAE\n",
    "    Args:\n",
    "        - y: 實際值\n",
    "        - yp: 預測值\n",
    "    Return:\n",
    "        - mae: MAE\n",
    "    \"\"\"\n",
    "    mae = MAE = sum(abs(y - yp)) / len(y)\n",
    "    return mae\n",
    "\n",
    "# 定義 mean_squared_error 這個函數, 計算並傳回 MSE\n",
    "def mean_squared_error(y, yp):\n",
    "    \"\"\"\n",
    "    請完成這個 Function 後往下執行\n",
    "    \"\"\"\n",
    "    mse = MSE = sum( (y - yp)**2 ) / len(y)\n",
    "    return mse"
   ]
  },
  {
   "cell_type": "code",
   "execution_count": 8,
   "metadata": {},
   "outputs": [
    {
     "data": {
      "image/png": "[encoded data removed]",
      "text/plain": [
       "<Figure size 432x288 with 1 Axes>"
      ]
     },
     "metadata": {
      "needs_background": "light"
     },
     "output_type": "display_data"
    }
   ],
   "source": [
    "# 與範例相同, 不另外解說\n",
    "w = 3\n",
    "b = 0.5\n",
    "x_lin = np.linspace(0, 100, 101)\n",
    "y = (x_lin + np.random.randn(101) * 5) * w + b\n",
    "\n",
    "plt.plot(x_lin, y, 'b.', label = 'data points')\n",
    "plt.title(\"Assume we have data points\")\n",
    "plt.legend(loc = 2)\n",
    "plt.show()"
   ]
  },
  {
   "cell_type": "code",
   "execution_count": 9,
   "metadata": {},
   "outputs": [
    {
     "data": {
      "image/png": "[encoded data removed]",
      "text/plain": [
       "<Figure size 432x288 with 1 Axes>"
      ]
     },
     "metadata": {
      "needs_background": "light"
     },
     "output_type": "display_data"
    }
   ],
   "source": [
    "# 與範例相同, 不另外解說\n",
    "y_hat = x_lin * w + b\n",
    "plt.plot(x_lin, y, 'b.', label = 'data')\n",
    "plt.plot(x_lin, y_hat, 'r-', label = 'prediction')\n",
    "plt.title(\"Assume we have data points (And the prediction)\")\n",
    "plt.legend(loc = 2)\n",
    "plt.show()"
   ]
  },
  {
   "cell_type": "code",
   "execution_count": 10,
   "metadata": {},
   "outputs": [
    {
     "name": "stdout",
     "output_type": "stream",
     "text": [
      "The Mean squared error is 195.293\n",
      "The Mean absolute error is 11.380\n"
     ]
    }
   ],
   "source": [
    "# 執行 Function, 確認有沒有正常執行\n",
    "MSE = mean_squared_error(y, y_hat)\n",
    "MAE = mean_absolute_error(y, y_hat)\n",
    "print(\"The Mean squared error is %.3f\" % (MSE))\n",
    "print(\"The Mean absolute error is %.3f\" % (MAE))"
   ]
  },
  {
   "cell_type": "markdown",
   "metadata": {},
   "source": [
    "# [作業2]\n",
    "\n",
    "請上 Kaggle, 在 Competitions 或 Dataset 中找一組競賽或資料並寫下：\n",
    "\n",
    "資料選擇：Highway Traffic M03A Taiwan（https://www.kaggle.com/phlinhng/highway-traffic-m03a-taiwan）\n",
    "\n",
    "1. 你選的這組資料為何重要\n",
    "   Highway Traffic M03A Taiwan中紀錄台灣國道高速公路上各車種(小客車、小貨車、大客車、大貨車、聯結車)通過每1支ETC門架之交通量，每5分鐘紀錄1筆。此資料如妥善運用，可預測國道各時段各路段的交通量，以提供政府單位了解國道個時段各路段之壅塞情形，以利其進行交通政策之規劃。\n",
    "\n",
    "2. 資料從何而來 (tips: 譬如提供者是誰、以什麼方式蒐集)\n",
    "   高速公路局-交通資料庫(https://tisvcloud.freeway.gov.tw/history/TDCS/M03A/)\n",
    "   \n",
    "3. 蒐集而來的資料型態為何\n",
    "   TimeInterval：報表產製時間(每5分鐘統計)。\n",
    "   GantryID：測站編號，例如01F0005N即為[基隆-基隆端]。\n",
    "   Direction：車行方向，S南、N北。\n",
    "   VehicleType：車種(31小客車、32小貨車、41大客車、42大貨車、5聯結車)\n",
    "   Counts：計算單一偵測站於此時階範圍內所經過之車流總量\n",
    "\n",
    "4. 這組資料想解決的問題如何評估\n",
    "   旅行時間預測的準確與否，Mean squared error 為評估指標之一，其值越小代表模式預估地越準確\n",
    "\n",
    "# [作業3]\n",
    "\n",
    "想像你經營一個自由載客車隊，你希望能透過數據分析以提升業績，請你思考並描述你如何規劃整體的分析/解決方案：\n",
    "\n",
    "1. 核心問題為何 (tips：如何定義 「提升業績 & 你的假設」)\n",
    "   提升業績 & 你的假設 ：一天當中，載客時段越多(空車時段越少)，表示業績越多。\n",
    "   \n",
    "2. 資料從何而來 (tips：哪些資料可能會對你想問的問題產生影響 & 資料如何蒐集)\n",
    "   哪些資料可能會對你想問的問題產生影響：\n",
    "   應變數\n",
    "       Y：載客時段/工作總時段\n",
    "   自變數：\n",
    "       X：\n",
    "       　(1).車輛平均旅行速率\n",
    "       　(2).叫車APP使用次數\n",
    "       　(3).是否鄰近大型場站、醫院、捷運等\n",
    "       　(4).路段擁擠程度\n",
    "   \n",
    "   資料如何蒐集：\n",
    "       (1).車輛平均旅行速率：車速紀錄器\n",
    "       (2).叫車APP平均每一天之使用次數：google play 、app store\n",
    "       (3).是否鄰近大型場站、醫院、捷運：政府公開資訊\n",
    "       (4).路段平均擁擠程度：政府公開資訊\n",
    "       \n",
    "3. 蒐集而來的資料型態為何\n",
    "   (1).車輛平均旅行速率：\n",
    "       km/hr\n",
    "   (2).叫車APP使用次數：\n",
    "       下載次數/day\n",
    "   (3).是否鄰近大型場站、醫院、捷運：政府公開資訊：\n",
    "       場站個數/km^2\n",
    "   (4).路段擁擠程度：\n",
    "       交通量/道路容量\n",
    "\n",
    "4. 你要回答的問題，其如何評估 (tips：你的假設如何驗證)\n",
    "    各項X對Y做迴歸分析，找出預測模式，MSE越小代表，模式越準。"
   ]
  }
 ],
 "metadata": {
  "anaconda-cloud": {},
  "kernelspec": {
   "display_name": "Python 3",
   "language": "python",
   "name": "python3"
  },
  "language_info": {
   "codemirror_mode": {
    "name": "ipython",
    "version": 3
   },
   "file_extension": ".py",
   "mimetype": "text/x-python",
   "name": "python",
   "nbconvert_exporter": "python",
   "pygments_lexer": "ipython3",
   "version": "3.7.3"
  }
 },
 "nbformat": 4,
 "nbformat_minor": 1
}
